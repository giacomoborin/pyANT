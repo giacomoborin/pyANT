{
 "cells": [
  {
   "cell_type": "markdown",
   "id": "postal-sphere",
   "metadata": {},
   "source": [
    "## Quadric sieve\n",
    "First I insert from python some function that I will use,\n",
    "there are:\n",
    "- solve_quad(a, p, verbose = False)\n",
    "- b_smooth_primes(n)\n",
    "- odd_res(n)\n",
    "- res_p(n,p):\n",
    "- v_p(n,p)\n",
    "- v_res_p(n,p)\n",
    "- legendre_qs(n , p)\n",
    "- q_sieve(n,b,M)"
   ]
  },
  {
   "cell_type": "code",
   "execution_count": 2,
   "id": "material-little",
   "metadata": {},
   "outputs": [
    {
     "name": "stdout",
     "output_type": "stream",
     "text": [
      "q_sieve_alg.py loaded\n"
     ]
    }
   ],
   "source": [
    "load('q_sieve_alg.py')"
   ]
  },
  {
   "cell_type": "code",
   "execution_count": 16,
   "id": "d3e48574",
   "metadata": {},
   "outputs": [
    {
     "data": {
      "text/plain": [
       "[[3799, 3168711, 0, 0, 1, 0, 1, 1, 0, 1, 0],\n",
       " [8297, 57576519, 0, 0, 0, 0, 1, 0, 0, 0, 1],\n",
       " [9133, 72147999, 0, 1, 1, 1, 0, 1, 1, 0, 1]]"
      ]
     },
     "execution_count": 16,
     "metadata": {},
     "output_type": "execute_result"
    }
   ],
   "source": [
    "n = 10030*1123\n",
    "A = q_sieve(n,85,10000)\n",
    "A"
   ]
  },
  {
   "cell_type": "code",
   "execution_count": 17,
   "id": "operational-cancer",
   "metadata": {},
   "outputs": [
    {
     "data": {
      "text/plain": [
       "0"
      ]
     },
     "execution_count": 17,
     "metadata": {},
     "output_type": "execute_result"
    }
   ],
   "source": [
    "Z = GF(2)\n",
    "V = Z^(len(A[0])-2)\n",
    "K = kernel(matrix([V(a[2:]) for a in A]))\n",
    "K.dimension()"
   ]
  },
  {
   "cell_type": "code",
   "execution_count": 18,
   "id": "received-visitor",
   "metadata": {},
   "outputs": [
    {
     "data": {
      "text/plain": [
       "11263690"
      ]
     },
     "execution_count": 18,
     "metadata": {},
     "output_type": "execute_result"
    }
   ],
   "source": [
    "v = K.random_element()\n",
    "x = prod([ A[i][0] for i in range(len(A)) if v[i] == 1])\n",
    "y = sqrt(prod([ A[i][1] for i in range(len(A)) if v[i] == 1]))\n",
    "gcd(x-y, n)"
   ]
  },
  {
   "cell_type": "code",
   "execution_count": 19,
   "id": "2eef8a2d",
   "metadata": {},
   "outputs": [
    {
     "data": {
      "text/plain": [
       "2"
      ]
     },
     "execution_count": 19,
     "metadata": {},
     "output_type": "execute_result"
    }
   ],
   "source": [
    "gcd(x+y, n)"
   ]
  },
  {
   "cell_type": "code",
   "execution_count": 20,
   "id": "255b712a",
   "metadata": {},
   "outputs": [
    {
     "data": {
      "text/plain": [
       "10037"
      ]
     },
     "execution_count": 20,
     "metadata": {},
     "output_type": "execute_result"
    }
   ],
   "source": [
    "next_prime(10020)"
   ]
  },
  {
   "cell_type": "code",
   "execution_count": 21,
   "id": "73c9d72e",
   "metadata": {},
   "outputs": [
    {
     "data": {
      "text/plain": [
       "10039"
      ]
     },
     "execution_count": 21,
     "metadata": {},
     "output_type": "execute_result"
    }
   ],
   "source": [
    "factor(10039)"
   ]
  },
  {
   "cell_type": "code",
   "execution_count": null,
   "id": "a93f9f6d",
   "metadata": {},
   "outputs": [],
   "source": []
  }
 ],
 "metadata": {
  "kernelspec": {
   "display_name": "SageMath 9.2",
   "language": "sage",
   "name": "sagemath"
  },
  "language_info": {
   "codemirror_mode": {
    "name": "ipython",
    "version": 3
   },
   "file_extension": ".py",
   "mimetype": "text/x-python",
   "name": "python",
   "nbconvert_exporter": "python",
   "pygments_lexer": "ipython3",
   "version": "3.9.1"
  }
 },
 "nbformat": 4,
 "nbformat_minor": 5
}
