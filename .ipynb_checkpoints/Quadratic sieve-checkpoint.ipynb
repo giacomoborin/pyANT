{
 "cells": [
  {
   "cell_type": "code",
   "execution_count": 1,
   "id": "strategic-moses",
   "metadata": {},
   "outputs": [
    {
     "data": {
      "text/plain": [
       "Finite Field of size 2"
      ]
     },
     "execution_count": 1,
     "metadata": {},
     "output_type": "execute_result"
    }
   ],
   "source": [
    "Z = GF(2)\n",
    "Z"
   ]
  },
  {
   "cell_type": "code",
   "execution_count": 4,
   "id": "operational-cancer",
   "metadata": {},
   "outputs": [
    {
     "data": {
      "text/plain": [
       "Vector space of dimension 100 over Finite Field of size 2"
      ]
     },
     "execution_count": 4,
     "metadata": {},
     "output_type": "execute_result"
    }
   ],
   "source": [
    "V = Z^100\n",
    "V"
   ]
  },
  {
   "cell_type": "code",
   "execution_count": 48,
   "id": "common-office",
   "metadata": {},
   "outputs": [],
   "source": [
    "M = matrix([V.random_element() for i in range(120)])\n",
    "v = kernel(M).random_element()"
   ]
  },
  {
   "cell_type": "code",
   "execution_count": 37,
   "id": "romance-harmony",
   "metadata": {},
   "outputs": [],
   "source": [
    "load('q_sieve_alg.py')"
   ]
  },
  {
   "cell_type": "code",
   "execution_count": 40,
   "id": "attended-criticism",
   "metadata": {},
   "outputs": [],
   "source": [
    "B = b_smooth_primes(1000)"
   ]
  },
  {
   "cell_type": "code",
   "execution_count": 51,
   "id": "chubby-tooth",
   "metadata": {},
   "outputs": [
    {
     "data": {
      "text/plain": [
       "100"
      ]
     },
     "execution_count": 51,
     "metadata": {},
     "output_type": "execute_result"
    }
   ],
   "source": [
    "len(v)"
   ]
  },
  {
   "cell_type": "code",
   "execution_count": 60,
   "id": "economic-seattle",
   "metadata": {},
   "outputs": [],
   "source": [
    "W = Z^2\n",
    "w1 = W.random_element()\n",
    "w2 = W.random_element()"
   ]
  },
  {
   "cell_type": "code",
   "execution_count": 61,
   "id": "bibliographic-blood",
   "metadata": {},
   "outputs": [
    {
     "data": {
      "text/plain": [
       "(0, 0)"
      ]
     },
     "execution_count": 61,
     "metadata": {},
     "output_type": "execute_result"
    }
   ],
   "source": [
    "w1"
   ]
  },
  {
   "cell_type": "code",
   "execution_count": 62,
   "id": "celtic-guarantee",
   "metadata": {},
   "outputs": [
    {
     "data": {
      "text/plain": [
       "(1, 0)"
      ]
     },
     "execution_count": 62,
     "metadata": {},
     "output_type": "execute_result"
    }
   ],
   "source": [
    "w2"
   ]
  },
  {
   "cell_type": "code",
   "execution_count": 64,
   "id": "automotive-venue",
   "metadata": {},
   "outputs": [
    {
     "data": {
      "text/plain": [
       "[\n",
       "(1, 0)\n",
       "]"
      ]
     },
     "execution_count": 64,
     "metadata": {},
     "output_type": "execute_result"
    }
   ],
   "source": [
    "matrix([w1,w2]).kernel().basis()"
   ]
  },
  {
   "cell_type": "code",
   "execution_count": 65,
   "id": "therapeutic-fellow",
   "metadata": {},
   "outputs": [],
   "source": [
    "kernel?"
   ]
  },
  {
   "cell_type": "code",
   "execution_count": null,
   "id": "first-yield",
   "metadata": {},
   "outputs": [],
   "source": []
  }
 ],
 "metadata": {
  "kernelspec": {
   "display_name": "SageMath 9.2",
   "language": "sage",
   "name": "sagemath"
  },
  "language_info": {
   "codemirror_mode": {
    "name": "ipython",
    "version": 3
   },
   "file_extension": ".py",
   "mimetype": "text/x-python",
   "name": "python",
   "nbconvert_exporter": "python",
   "pygments_lexer": "ipython3",
   "version": "3.9.1"
  }
 },
 "nbformat": 4,
 "nbformat_minor": 5
}
