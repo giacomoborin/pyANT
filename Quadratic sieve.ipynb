{
 "cells": [
  {
   "cell_type": "markdown",
   "id": "postal-sphere",
   "metadata": {},
   "source": [
    "## Quadric sieve\n",
    "First I insert from python some function that I will use,\n",
    "there are:\n",
    "- solve_quad(a, p, verbose = False)\n",
    "- b_smooth_primes(n)\n",
    "- odd_res(n)\n",
    "- res_p(n,p):\n",
    "- v_p(n,p)\n",
    "- v_res_p(n,p)\n",
    "- legendre_qs(n , p)"
   ]
  },
  {
   "cell_type": "code",
   "execution_count": 68,
   "id": "material-little",
   "metadata": {},
   "outputs": [],
   "source": [
    "load('q_sieve_alg.py')"
   ]
  },
  {
   "cell_type": "code",
   "execution_count": 75,
   "id": "inner-protocol",
   "metadata": {},
   "outputs": [
    {
     "data": {
      "text/plain": [
       "[17, 23, 29, 47, 53, 59, 67, 83]"
      ]
     },
     "execution_count": 75,
     "metadata": {},
     "output_type": "execute_result"
    }
   ],
   "source": [
    "def prime_sieve(N,bound):\n",
    "    return [p for p in b_smooth_primes(bound)[1:] if legendre_symbol(N,p)==1]\n",
    "prime_sieve(213213,100)"
   ]
  },
  {
   "cell_type": "code",
   "execution_count": 76,
   "id": "indie-sailing",
   "metadata": {},
   "outputs": [
    {
     "ename": "IndentationError",
     "evalue": "expected an indented block (<ipython-input-76-8fe7210381c4>, line 1)",
     "output_type": "error",
     "traceback": [
      "\u001b[0;36m  File \u001b[0;32m\"<ipython-input-76-8fe7210381c4>\"\u001b[0;36m, line \u001b[0;32m1\u001b[0m\n\u001b[0;31m    def quad_sieve_bsmooth(N,bound):\u001b[0m\n\u001b[0m                                    ^\u001b[0m\n\u001b[0;31mIndentationError\u001b[0m\u001b[0;31m:\u001b[0m expected an indented block\n"
     ]
    }
   ],
   "source": [
    "def quad_sieve_bsmooth(N,bound):\n",
    "    "
   ]
  },
  {
   "cell_type": "code",
   "execution_count": 4,
   "id": "operational-cancer",
   "metadata": {},
   "outputs": [
    {
     "data": {
      "text/plain": [
       "Vector space of dimension 100 over Finite Field of size 2"
      ]
     },
     "execution_count": 4,
     "metadata": {},
     "output_type": "execute_result"
    }
   ],
   "source": [
    "Z = GF(2)\n",
    "V = Z^100\n",
    "V"
   ]
  },
  {
   "cell_type": "code",
   "execution_count": 48,
   "id": "common-office",
   "metadata": {},
   "outputs": [],
   "source": [
    "M = matrix([V.random_element() for i in range(120)])\n",
    "v = kernel(M).random_element()"
   ]
  },
  {
   "cell_type": "code",
   "execution_count": 40,
   "id": "employed-indonesian",
   "metadata": {},
   "outputs": [],
   "source": [
    "B = b_smooth_primes(1000)"
   ]
  },
  {
   "cell_type": "code",
   "execution_count": 51,
   "id": "blond-scroll",
   "metadata": {},
   "outputs": [
    {
     "data": {
      "text/plain": [
       "100"
      ]
     },
     "execution_count": 51,
     "metadata": {},
     "output_type": "execute_result"
    }
   ],
   "source": [
    "len(v)"
   ]
  },
  {
   "cell_type": "code",
   "execution_count": 60,
   "id": "incident-panama",
   "metadata": {},
   "outputs": [],
   "source": [
    "W = Z^2\n",
    "w1 = W.random_element()\n",
    "w2 = W.random_element()"
   ]
  },
  {
   "cell_type": "code",
   "execution_count": 61,
   "id": "cathedral-climate",
   "metadata": {},
   "outputs": [
    {
     "data": {
      "text/plain": [
       "(0, 0)"
      ]
     },
     "execution_count": 61,
     "metadata": {},
     "output_type": "execute_result"
    }
   ],
   "source": [
    "w1"
   ]
  },
  {
   "cell_type": "code",
   "execution_count": 62,
   "id": "adverse-casino",
   "metadata": {},
   "outputs": [
    {
     "data": {
      "text/plain": [
       "(1, 0)"
      ]
     },
     "execution_count": 62,
     "metadata": {},
     "output_type": "execute_result"
    }
   ],
   "source": [
    "w2"
   ]
  },
  {
   "cell_type": "code",
   "execution_count": 64,
   "id": "unnecessary-symbol",
   "metadata": {},
   "outputs": [
    {
     "data": {
      "text/plain": [
       "[\n",
       "(1, 0)\n",
       "]"
      ]
     },
     "execution_count": 64,
     "metadata": {},
     "output_type": "execute_result"
    }
   ],
   "source": [
    "matrix([w1,w2]).kernel().basis()"
   ]
  },
  {
   "cell_type": "code",
   "execution_count": 65,
   "id": "elder-islam",
   "metadata": {},
   "outputs": [],
   "source": [
    "kernel?"
   ]
  },
  {
   "cell_type": "code",
   "execution_count": null,
   "id": "received-visitor",
   "metadata": {},
   "outputs": [],
   "source": []
  }
 ],
 "metadata": {
  "kernelspec": {
   "display_name": "SageMath 9.2",
   "language": "sage",
   "name": "sagemath"
  },
  "language_info": {
   "codemirror_mode": {
    "name": "ipython",
    "version": 3
   },
   "file_extension": ".py",
   "mimetype": "text/x-python",
   "name": "python",
   "nbconvert_exporter": "python",
   "pygments_lexer": "ipython3",
   "version": "3.9.1"
  }
 },
 "nbformat": 4,
 "nbformat_minor": 5
}
