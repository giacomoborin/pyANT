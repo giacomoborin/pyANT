{
 "cells": [
  {
   "cell_type": "markdown",
   "id": "strategic-vatican",
   "metadata": {},
   "source": [
    "## Quadric sieve\n",
    "First I insert from python some function that I will use,\n",
    "there are:\n",
    "- solve_quad(a, p, verbose = False)\n",
    "- b_smooth_primes(n)\n",
    "- odd_res(n)\n",
    "- res_p(n,p):\n",
    "- v_p(n,p)\n",
    "- v_res_p(n,p)"
   ]
  },
  {
   "cell_type": "code",
   "execution_count": null,
   "id": "premium-orientation",
   "metadata": {},
   "outputs": [],
   "source": [
    "load('q_sieve_alg.py')"
   ]
  },
  {
   "cell_type": "code",
   "execution_count": null,
   "id": "greater-kennedy",
   "metadata": {},
   "outputs": [],
   "source": [
    "def prime_sieve(N,bound):\n",
    "    return [p for o in b_smooth_primes()]"
   ]
  },
  {
   "cell_type": "code",
   "execution_count": null,
   "id": "divided-customs",
   "metadata": {},
   "outputs": [],
   "source": []
  },
  {
   "cell_type": "code",
   "execution_count": 4,
   "id": "operational-cancer",
   "metadata": {},
   "outputs": [
    {
     "data": {
      "text/plain": [
       "Vector space of dimension 100 over Finite Field of size 2"
      ]
     },
     "execution_count": 4,
     "metadata": {},
     "output_type": "execute_result"
    }
   ],
   "source": [
    "Z = GF(2)\n",
    "V = Z^100\n",
    "V"
   ]
  },
  {
   "cell_type": "code",
   "execution_count": 48,
   "id": "common-office",
   "metadata": {},
   "outputs": [],
   "source": [
    "M = matrix([V.random_element() for i in range(120)])\n",
    "v = kernel(M).random_element()"
   ]
  },
  {
   "cell_type": "code",
   "execution_count": 40,
   "id": "sublime-studio",
   "metadata": {},
   "outputs": [],
   "source": [
    "B = b_smooth_primes(1000)"
   ]
  },
  {
   "cell_type": "code",
   "execution_count": 51,
   "id": "sublime-reduction",
   "metadata": {},
   "outputs": [
    {
     "data": {
      "text/plain": [
       "100"
      ]
     },
     "execution_count": 51,
     "metadata": {},
     "output_type": "execute_result"
    }
   ],
   "source": [
    "len(v)"
   ]
  },
  {
   "cell_type": "code",
   "execution_count": 60,
   "id": "right-mercy",
   "metadata": {},
   "outputs": [],
   "source": [
    "W = Z^2\n",
    "w1 = W.random_element()\n",
    "w2 = W.random_element()"
   ]
  },
  {
   "cell_type": "code",
   "execution_count": 61,
   "id": "closing-wings",
   "metadata": {},
   "outputs": [
    {
     "data": {
      "text/plain": [
       "(0, 0)"
      ]
     },
     "execution_count": 61,
     "metadata": {},
     "output_type": "execute_result"
    }
   ],
   "source": [
    "w1"
   ]
  },
  {
   "cell_type": "code",
   "execution_count": 62,
   "id": "charged-planner",
   "metadata": {},
   "outputs": [
    {
     "data": {
      "text/plain": [
       "(1, 0)"
      ]
     },
     "execution_count": 62,
     "metadata": {},
     "output_type": "execute_result"
    }
   ],
   "source": [
    "w2"
   ]
  },
  {
   "cell_type": "code",
   "execution_count": 64,
   "id": "about-disco",
   "metadata": {},
   "outputs": [
    {
     "data": {
      "text/plain": [
       "[\n",
       "(1, 0)\n",
       "]"
      ]
     },
     "execution_count": 64,
     "metadata": {},
     "output_type": "execute_result"
    }
   ],
   "source": [
    "matrix([w1,w2]).kernel().basis()"
   ]
  },
  {
   "cell_type": "code",
   "execution_count": 65,
   "id": "yellow-chassis",
   "metadata": {},
   "outputs": [],
   "source": [
    "kernel?"
   ]
  },
  {
   "cell_type": "code",
   "execution_count": null,
   "id": "established-equivalent",
   "metadata": {},
   "outputs": [],
   "source": []
  }
 ],
 "metadata": {
  "kernelspec": {
   "display_name": "SageMath 9.2",
   "language": "sage",
   "name": "sagemath"
  },
  "language_info": {
   "codemirror_mode": {
    "name": "ipython",
    "version": 3
   },
   "file_extension": ".py",
   "mimetype": "text/x-python",
   "name": "python",
   "nbconvert_exporter": "python",
   "pygments_lexer": "ipython3",
   "version": "3.9.1"
  }
 },
 "nbformat": 4,
 "nbformat_minor": 5
}
