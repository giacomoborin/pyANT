{
 "cells": [
  {
   "cell_type": "code",
   "execution_count": 1,
   "id": "strategic-moses",
   "metadata": {},
   "outputs": [
    {
     "data": {
      "text/plain": [
       "Finite Field of size 2"
      ]
     },
     "execution_count": 1,
     "metadata": {},
     "output_type": "execute_result"
    }
   ],
   "source": [
    "Z = GF(2)\n",
    "Z"
   ]
  },
  {
   "cell_type": "code",
   "execution_count": 4,
   "id": "operational-cancer",
   "metadata": {},
   "outputs": [
    {
     "data": {
      "text/plain": [
       "Vector space of dimension 100 over Finite Field of size 2"
      ]
     },
     "execution_count": 4,
     "metadata": {},
     "output_type": "execute_result"
    }
   ],
   "source": [
    "V = Z^100\n",
    "V"
   ]
  },
  {
   "cell_type": "code",
   "execution_count": 28,
   "id": "common-office",
   "metadata": {},
   "outputs": [
    {
     "data": {
      "text/plain": [
       "1"
      ]
     },
     "execution_count": 28,
     "metadata": {},
     "output_type": "execute_result"
    }
   ],
   "source": [
    "M = matrix([V.random_element() for i in range(120)])\n",
    "v = kernel(M).random_element()"
   ]
  },
  {
   "cell_type": "code",
   "execution_count": 33,
   "id": "rising-hypothesis",
   "metadata": {},
   "outputs": [],
   "source": [
    "for i in range(120):\n",
    "    if v[i]==1:\n",
    "        s  = s + M.row(i)"
   ]
  },
  {
   "cell_type": "code",
   "execution_count": 34,
   "id": "stainless-receiver",
   "metadata": {},
   "outputs": [
    {
     "data": {
      "text/plain": [
       "(0, 0, 0, 0, 0, 0, 0, 0, 0, 0, 0, 0, 0, 0, 0, 0, 0, 0, 0, 0, 0, 0, 0, 0, 0, 0, 0, 0, 0, 0, 0, 0, 0, 0, 0, 0, 0, 0, 0, 0, 0, 0, 0, 0, 0, 0, 0, 0, 0, 0, 0, 0, 0, 0, 0, 0, 0, 0, 0, 0, 0, 0, 0, 0, 0, 0, 0, 0, 0, 0, 0, 0, 0, 0, 0, 0, 0, 0, 0, 0, 0, 0, 0, 0, 0, 0, 0, 0, 0, 0, 0, 0, 0, 0, 0, 0, 0, 0, 0, 0)"
      ]
     },
     "execution_count": 34,
     "metadata": {},
     "output_type": "execute_result"
    }
   ],
   "source": [
    "s"
   ]
  },
  {
   "cell_type": "code",
   "execution_count": null,
   "id": "romance-harmony",
   "metadata": {},
   "outputs": [],
   "source": [
    "load()"
   ]
  }
 ],
 "metadata": {
  "kernelspec": {
   "display_name": "SageMath 9.2",
   "language": "sage",
   "name": "sagemath"
  },
  "language_info": {
   "codemirror_mode": {
    "name": "ipython",
    "version": 3
   },
   "file_extension": ".py",
   "mimetype": "text/x-python",
   "name": "python",
   "nbconvert_exporter": "python",
   "pygments_lexer": "ipython3",
   "version": "3.9.1"
  }
 },
 "nbformat": 4,
 "nbformat_minor": 5
}
