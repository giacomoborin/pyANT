{
 "cells": [
  {
   "cell_type": "markdown",
   "id": "postal-sphere",
   "metadata": {},
   "source": [
    "## Quadric sieve\n",
    "First I insert from python some function that I will use,\n",
    "there are:\n",
    "- solve_quad(a, p, verbose = False)\n",
    "- b_smooth_primes(n)\n",
    "- odd_res(n)\n",
    "- res_p(n,p):\n",
    "- v_p(n,p)\n",
    "- v_res_p(n,p)\n",
    "- legendre_qs(n , p)\n",
    "- q_sieve(n,b,M)"
   ]
  },
  {
   "cell_type": "code",
   "execution_count": 1,
   "id": "material-little",
   "metadata": {},
   "outputs": [
    {
     "name": "stdout",
     "output_type": "stream",
     "text": [
      "q_sieve_alg.py loaded\n"
     ]
    }
   ],
   "source": [
    "load('q_sieve_alg.py')"
   ]
  },
  {
   "cell_type": "code",
   "execution_count": 187,
   "id": "d3e48574",
   "metadata": {},
   "outputs": [
    {
     "data": {
      "text/plain": [
       "[[3491, 915530, 1, 1, 1, 1, 1, 1, 0, 0],\n",
       " [3549, 1323850, 1, 0, 0, 1, 1, 0, 0, 1],\n",
       " [3614, 1789445, 0, 1, 1, 0, 1, 1, 1, 0],\n",
       " [3643, 1999898, 1, 0, 0, 0, 1, 1, 0, 0],\n",
       " [3901, 3946250, 1, 0, 1, 1, 0, 1, 0, 0],\n",
       " [4419, 8256010, 1, 1, 1, 0, 1, 0, 0, 1],\n",
       " [4803, 11797258, 1, 0, 0, 0, 1, 0, 0, 0],\n",
       " [5119, 14932610, 1, 1, 1, 0, 0, 1, 1, 0],\n",
       " [5724, 21492625, 0, 1, 0, 0, 1, 0, 0, 0],\n",
       " [8276, 57220625, 0, 0, 1, 1, 1, 1, 0, 0],\n",
       " [9849, 85731250, 1, 1, 0, 1, 1, 0, 1, 0]]"
      ]
     },
     "execution_count": 187,
     "metadata": {},
     "output_type": "execute_result"
    }
   ],
   "source": [
    "n = 10037*1123\n",
    "A = q_sieve(n,85,10000)\n",
    "A"
   ]
  },
  {
   "cell_type": "code",
   "execution_count": 188,
   "id": "operational-cancer",
   "metadata": {},
   "outputs": [
    {
     "data": {
      "text/plain": [
       "5"
      ]
     },
     "execution_count": 188,
     "metadata": {},
     "output_type": "execute_result"
    }
   ],
   "source": [
    "Z = GF(2)\n",
    "V = Z^(len(A[0])-2)\n",
    "K = kernel(matrix([V(a[2:]) for a in A]))\n",
    "K.dimension()"
   ]
  },
  {
   "cell_type": "code",
   "execution_count": 197,
   "id": "received-visitor",
   "metadata": {},
   "outputs": [
    {
     "data": {
      "text/plain": [
       "10037"
      ]
     },
     "execution_count": 197,
     "metadata": {},
     "output_type": "execute_result"
    }
   ],
   "source": [
    "v = K.random_element()\n",
    "x = prod([ A[i][0] for i in range(len(A)) if v[i] == 1])\n",
    "y = sqrt(prod([ A[i][1] for i in range(len(A)) if v[i] == 1]))\n",
    "gcd(x-y, n)"
   ]
  },
  {
   "cell_type": "code",
   "execution_count": 32,
   "id": "2eef8a2d",
   "metadata": {},
   "outputs": [
    {
     "data": {
      "text/plain": [
       "701"
      ]
     },
     "execution_count": 32,
     "metadata": {},
     "output_type": "execute_result"
    }
   ],
   "source": [
    "gcd(x+y, n)"
   ]
  },
  {
   "cell_type": "code",
   "execution_count": 60,
   "id": "255b712a",
   "metadata": {},
   "outputs": [
    {
     "data": {
      "text/plain": [
       "10037"
      ]
     },
     "execution_count": 60,
     "metadata": {},
     "output_type": "execute_result"
    }
   ],
   "source": [
    "next_prime(10032)"
   ]
  },
  {
   "cell_type": "code",
   "execution_count": null,
   "id": "73c9d72e",
   "metadata": {},
   "outputs": [],
   "source": []
  }
 ],
 "metadata": {
  "kernelspec": {
   "display_name": "SageMath 9.2",
   "language": "sage",
   "name": "sagemath"
  },
  "language_info": {
   "codemirror_mode": {
    "name": "ipython",
    "version": 3
   },
   "file_extension": ".py",
   "mimetype": "text/x-python",
   "name": "python",
   "nbconvert_exporter": "python",
   "pygments_lexer": "ipython3",
   "version": "3.9.1"
  }
 },
 "nbformat": 4,
 "nbformat_minor": 5
}
